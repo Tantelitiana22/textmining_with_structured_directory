{
 "cells": [
  {
   "cell_type": "code",
   "execution_count": null,
   "metadata": {},
   "outputs": [],
   "source": [
    "from sklearn.feature_extraction.text import TfidfVectorizer\n",
    "from sklearn.naive_bayes import MultinomialNB\n",
    "from sklearn.svm import LinearSVC\n",
    "from sklearn.linear_model import LogisticRegression\n",
    "from sklearn.model_selection import GridSearchCV\n",
    "from sklearn.pipeline import Pipeline\n",
    "from Word2VecTransformer import Embedding_Word2Vec\n",
    "from FastTextTransformer import FastTextTransformer\n",
    "from sklearn.ensemble import RandomForestClassifier\n",
    "from threading import Thread\n",
    "from ClearTransformData import Cleardataset\n",
    "import pandas as pd\n",
    "import time\n",
    "import pickle\n",
    "import os"
   ]
  },
  {
   "cell_type": "code",
   "execution_count": null,
   "metadata": {},
   "outputs": [],
   "source": [
    "model8 = [(\"fastText\",FastTextTransformer(inputFile=Input,ft_home=ft_home,size=300)) ,(\"clfSVM\",LinearSVC())]\n",
    "param8={\"fastText__model\":[\"cbow\",\"skipgram\"],\"clfSVM__C\": [0.1, 1, 10, 100, 1000]}\n",
    "model11 = [(\"fastText\",FastTextTransformer(inputFile=Input,ft_home=ft_home,size=300)),(\"clfrandomForest\",RandomForestClassifier())]\n",
    "param11={\"fastText__model\":[\"cbow\",\"skipgram\"],\"clfrandomForest__n_estimators\":[200,500,700]}\n"
   ]
  }
 ],
 "metadata": {
  "kernelspec": {
   "display_name": "Python 3",
   "language": "python",
   "name": "python3"
  },
  "language_info": {
   "codemirror_mode": {
    "name": "ipython",
    "version": 3
   },
   "file_extension": ".py",
   "mimetype": "text/x-python",
   "name": "python",
   "nbconvert_exporter": "python",
   "pygments_lexer": "ipython3",
   "version": "3.6.5"
  }
 },
 "nbformat": 4,
 "nbformat_minor": 2
}
