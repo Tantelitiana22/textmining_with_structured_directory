{
 "cells": [
  {
   "cell_type": "code",
   "execution_count": null,
   "metadata": {},
   "outputs": [],
   "source": [
    "from sklearn.feature_extraction.text import TfidfVectorizer\n",
    "from sklearn.naive_bayes import MultinomialNB\n",
    "from sklearn.svm import LinearSVC\n",
    "from sklearn.linear_model import LogisticRegression\n",
    "from sklearn.model_selection import GridSearchCV\n",
    "from sklearn.pipeline import Pipeline\n",
    "from Word2VecTransformer import Embedding_Word2Vec\n",
    "from FastTextTransformer import FastTextTransformer\n",
    "from sklearn.ensemble import RandomForestClassifier\n",
    "from threading import Thread\n",
    "from ClearTransformData import Cleardataset\n",
    "import pandas as pd\n",
    "import time\n",
    "import pickle\n",
    "import os"
   ]
  },
  {
   "cell_type": "code",
   "execution_count": null,
   "metadata": {},
   "outputs": [],
   "source": [
    "model3 = [(\"w2v\", Embedding_Word2Vec(n_size = 300,n_window = 5,n_min_count = 10,n_workers = 4)),(\"clfMultinomialNB\",MultinomialNB())]\n",
    "param3={\"w2v__model\":[\"cbow\",\"skipgram\"],\"clfMultinomialNB__alpha\":[0.5, 0.7, 0.9, 1.1, 1.3, 1.5]}\n",
    "model10 = [(\"w2v\", Embedding_Word2Vec(n_size = 300,n_window = 5,n_min_count = 10,n_workers = 4)),(\"clfrandomForest\",RandomForestClassifier())]\n",
    "param10={\"w2v__model\":[\"cbow\",\"skipgram\"],\"clfrandomForest__n_estimators\":[200,500,700]}"
   ]
  }
 ],
 "metadata": {
  "kernelspec": {
   "display_name": "Python 3",
   "language": "python",
   "name": "python3"
  },
  "language_info": {
   "codemirror_mode": {
    "name": "ipython",
    "version": 3
   },
   "file_extension": ".py",
   "mimetype": "text/x-python",
   "name": "python",
   "nbconvert_exporter": "python",
   "pygments_lexer": "ipython3",
   "version": "3.6.5"
  }
 },
 "nbformat": 4,
 "nbformat_minor": 2
}
